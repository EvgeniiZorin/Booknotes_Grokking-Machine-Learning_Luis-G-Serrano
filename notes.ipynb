{
 "cells": [
  {
   "cell_type": "markdown",
   "metadata": {},
   "source": [
    "# p. 42-43\n",
    "\n",
    "> Wrong definition of \"Multivariate linear regression\"\n",
    "\n",
    "It seems that the definitions for “multiple / multivariable regression” and “multivariate regression” available online are highly mixed and often used interchangeably. Nevertheless, after some searching online, it seems that more respectable sources of the definitions of these terms agree on the following: \n",
    "-\t**Multivariate regression**: predict multiple ($\\ge 1$) dependable variables $y$ (labels);\n",
    "-\t**Multivariable / multiple regression**: uses multiple ($\\ge 1$) input variables (independent variables / features) to predict one label $y$, e.g. $y = x1 + x2 + x3 + b$\n",
    "\n",
    "Sources:\n",
    "- \"multivariate regression is a technique that estimates a single regression model with more than one outcome variable. When there is more than one predictor variable in a multivariate regression model, the model is a multivariate multiple regression.\" (https://stats.oarc.ucla.edu/stata/dae/multivariate-regression-analysis/)\n",
    "- \"Multivariable linear regression … with more variables … linear regression with two input variables and one output variable\" (p . 191, “Essential Math for Data Science”, Thomas Nield (O’REILLY)) \n",
    "- \"Statistically speaking, multivariate analysis refers to statistical models that have 2 or more dependent or outcome variables,1 and multivariable analysis refers to statistical models in which there are multiple independent or response variables.\" (https://www.ncbi.nlm.nih.gov/pmc/articles/PMC3518362/)\n",
    "- \"Multivariate Multiple Regression is a method of modeling multiple responses, or dependent variables, with a single set of predictor variables.\" (https://library.virginia.edu/data/articles/getting-started-with-multivariate-multiple-regression)\n",
    "\n"
   ]
  }
 ],
 "metadata": {
  "language_info": {
   "name": "python"
  }
 },
 "nbformat": 4,
 "nbformat_minor": 2
}
